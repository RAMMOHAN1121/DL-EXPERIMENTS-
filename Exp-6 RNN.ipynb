{
  "nbformat": 4,
  "nbformat_minor": 0,
  "metadata": {
    "colab": {
      "provenance": [],
      "authorship_tag": "ABX9TyPhrC1LNYl91KeWjkxYfLtK",
      "include_colab_link": true
    },
    "kernelspec": {
      "name": "python3",
      "display_name": "Python 3"
    },
    "language_info": {
      "name": "python"
    }
  },
  "cells": [
    {
      "cell_type": "markdown",
      "metadata": {
        "id": "view-in-github",
        "colab_type": "text"
      },
      "source": [
        "<a href=\"https://colab.research.google.com/github/RAMMOHAN1121/DL-EXPERIMENTS-/blob/main/Exp-6%20RNN.ipynb\" target=\"_parent\"><img src=\"https://colab.research.google.com/assets/colab-badge.svg\" alt=\"Open In Colab\"/></a>"
      ]
    },
    {
      "cell_type": "code",
      "execution_count": 1,
      "metadata": {
        "colab": {
          "base_uri": "https://localhost:8080/"
        },
        "id": "WlApmLl4HmI6",
        "outputId": "4b8e3f7b-a3ca-49c2-c5e9-0023bd51c7ea"
      },
      "outputs": [
        {
          "output_type": "stream",
          "name": "stdout",
          "text": [
            "Epoch 1/10\n",
            "4/4 [==============================] - 5s 11ms/step - loss: 1.4299\n",
            "Epoch 2/10\n",
            "4/4 [==============================] - 0s 9ms/step - loss: 1.2653\n",
            "Epoch 3/10\n",
            "4/4 [==============================] - 0s 9ms/step - loss: 1.1832\n",
            "Epoch 4/10\n",
            "4/4 [==============================] - 0s 8ms/step - loss: 1.1285\n",
            "Epoch 5/10\n",
            "4/4 [==============================] - 0s 8ms/step - loss: 1.0840\n",
            "Epoch 6/10\n",
            "4/4 [==============================] - 0s 15ms/step - loss: 1.0536\n",
            "Epoch 7/10\n",
            "4/4 [==============================] - 0s 14ms/step - loss: 1.0253\n",
            "Epoch 8/10\n",
            "4/4 [==============================] - 0s 10ms/step - loss: 0.9983\n",
            "Epoch 9/10\n",
            "4/4 [==============================] - 0s 9ms/step - loss: 0.9789\n",
            "Epoch 10/10\n",
            "4/4 [==============================] - 0s 7ms/step - loss: 0.9559\n",
            "1/1 [==============================] - 1s 595ms/step - loss: 0.9757\n"
          ]
        },
        {
          "output_type": "execute_result",
          "data": {
            "text/plain": [
              "0.9757288098335266"
            ]
          },
          "metadata": {},
          "execution_count": 1
        }
      ],
      "source": [
        "import tensorflow as tf\n",
        "from tensorflow import keras\n",
        "input_shape = (10, 1)\n",
        "model = keras.Sequential([\n",
        "    keras.layers.SimpleRNN(32, input_shape=input_shape),\n",
        "    keras.layers.Dense(1)\n",
        "])\n",
        "model.compile(optimizer='adam', loss='mse')\n",
        "import numpy as np\n",
        "\n",
        "X_train = np.random.randn(100, 10, 1)\n",
        "y_train = np.random.randn(100, 1)\n",
        "\n",
        "model.fit(X_train, y_train, epochs=10, batch_size=32)\n",
        "X_test = np.random.randn(10, 10, 1)\n",
        "y_test = np.random.randn(10, 1)\n",
        "\n",
        "model.evaluate(X_test, y_test)"
      ]
    }
  ]
}