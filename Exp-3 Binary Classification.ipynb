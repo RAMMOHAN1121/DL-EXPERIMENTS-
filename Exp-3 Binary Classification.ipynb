{
  "nbformat": 4,
  "nbformat_minor": 0,
  "metadata": {
    "colab": {
      "provenance": [],
      "authorship_tag": "ABX9TyOTt+4WX7KcIlR77cST1fMb",
      "include_colab_link": true
    },
    "kernelspec": {
      "name": "python3",
      "display_name": "Python 3"
    },
    "language_info": {
      "name": "python"
    }
  },
  "cells": [
    {
      "cell_type": "markdown",
      "metadata": {
        "id": "view-in-github",
        "colab_type": "text"
      },
      "source": [
        "<a href=\"https://colab.research.google.com/github/RAMMOHAN1121/DL-EXPERIMENTS-/blob/main/Binary%20Classification.ipynb\" target=\"_parent\"><img src=\"https://colab.research.google.com/assets/colab-badge.svg\" alt=\"Open In Colab\"/></a>"
      ]
    },
    {
      "cell_type": "code",
      "execution_count": 1,
      "metadata": {
        "colab": {
          "base_uri": "https://localhost:8080/"
        },
        "id": "RGgC4R7iD7dU",
        "outputId": "0a604a94-86db-4a67-bbcd-4cd5b1c61a90"
      },
      "outputs": [
        {
          "output_type": "stream",
          "name": "stdout",
          "text": [
            "Epoch 1/10\n",
            "20/20 [==============================] - 5s 76ms/step - loss: 0.6899 - accuracy: 0.5156 - val_loss: 0.6726 - val_accuracy: 0.6313\n",
            "Epoch 2/10\n",
            "20/20 [==============================] - 0s 23ms/step - loss: 0.6694 - accuracy: 0.5484 - val_loss: 0.6473 - val_accuracy: 0.6062\n",
            "Epoch 3/10\n",
            "20/20 [==============================] - 0s 12ms/step - loss: 0.6513 - accuracy: 0.5813 - val_loss: 0.6280 - val_accuracy: 0.6562\n",
            "Epoch 4/10\n",
            "20/20 [==============================] - 0s 11ms/step - loss: 0.6330 - accuracy: 0.6406 - val_loss: 0.6074 - val_accuracy: 0.6687\n",
            "Epoch 5/10\n",
            "20/20 [==============================] - 1s 28ms/step - loss: 0.6131 - accuracy: 0.6938 - val_loss: 0.5875 - val_accuracy: 0.7000\n",
            "Epoch 6/10\n",
            "20/20 [==============================] - 0s 14ms/step - loss: 0.5911 - accuracy: 0.7375 - val_loss: 0.5655 - val_accuracy: 0.7750\n",
            "Epoch 7/10\n",
            "20/20 [==============================] - 0s 18ms/step - loss: 0.5676 - accuracy: 0.7766 - val_loss: 0.5413 - val_accuracy: 0.8125\n",
            "Epoch 8/10\n",
            "20/20 [==============================] - 0s 24ms/step - loss: 0.5416 - accuracy: 0.8094 - val_loss: 0.5170 - val_accuracy: 0.8562\n",
            "Epoch 9/10\n",
            "20/20 [==============================] - 0s 23ms/step - loss: 0.5154 - accuracy: 0.8375 - val_loss: 0.4920 - val_accuracy: 0.8875\n",
            "Epoch 10/10\n",
            "20/20 [==============================] - 0s 23ms/step - loss: 0.4885 - accuracy: 0.8703 - val_loss: 0.4666 - val_accuracy: 0.9187\n",
            "7/7 [==============================] - 1s 13ms/step\n",
            "Test accuracy: 0.8900\n"
          ]
        }
      ],
      "source": [
        "import numpy as np\n",
        "import tensorflow as tf\n",
        "from tensorflow.keras.models import Sequential\n",
        "from tensorflow.keras.layers import Dense,Input\n",
        "from sklearn.model_selection import train_test_split\n",
        "from sklearn.metrics import accuracy_score\n",
        "np.random.seed(42)\n",
        "X = np.random.rand(1000, 2)\n",
        "y = (X[:, 0] + X[:, 1] > 1).astype(int)\n",
        "X_train, X_test, y_train, y_test = train_test_split(X, y, test_size=0.2,\n",
        "random_state=42)\n",
        "model = Sequential([Input(shape=(2)),Dense(64, activation='relu'),Dense(1,\n",
        "activation='sigmoid')])\n",
        "model.compile(optimizer='adam',loss='binary_crossentropy',metrics=['accuracy'])\n",
        "model.fit(X_train, y_train, epochs=10, batch_size=32, validation_split=0.2)\n",
        "y_pred = model.predict(X_test)\n",
        "y_pred_binary = (y_pred > 0.5).astype(int)\n",
        "test_accuracy = accuracy_score(y_test, y_pred_binary)\n",
        "print(f\"Test accuracy: {test_accuracy:.4f}\")"
      ]
    }
  ]
}
