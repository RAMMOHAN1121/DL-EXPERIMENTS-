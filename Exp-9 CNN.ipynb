{
  "nbformat": 4,
  "nbformat_minor": 0,
  "metadata": {
    "colab": {
      "provenance": [],
      "authorship_tag": "ABX9TyPEsU72J+nZyPnofpF61ejY",
      "include_colab_link": true
    },
    "kernelspec": {
      "name": "python3",
      "display_name": "Python 3"
    },
    "language_info": {
      "name": "python"
    }
  },
  "cells": [
    {
      "cell_type": "markdown",
      "metadata": {
        "id": "view-in-github",
        "colab_type": "text"
      },
      "source": [
        "<a href=\"https://colab.research.google.com/github/RAMMOHAN1121/DL-EXPERIMENTS-/blob/main/Exp-9%20CNN.ipynb\" target=\"_parent\"><img src=\"https://colab.research.google.com/assets/colab-badge.svg\" alt=\"Open In Colab\"/></a>"
      ]
    },
    {
      "cell_type": "code",
      "execution_count": 1,
      "metadata": {
        "colab": {
          "base_uri": "https://localhost:8080/"
        },
        "id": "iX6xa0GGekk3",
        "outputId": "0cdc71fe-938f-443e-d403-3bddf3a7e5ed"
      },
      "outputs": [
        {
          "output_type": "stream",
          "name": "stdout",
          "text": [
            "Downloading data from https://storage.googleapis.com/tensorflow/tf-keras-datasets/mnist.npz\n",
            "11490434/11490434 [==============================] - 0s 0us/step\n",
            "Epoch 1/10\n",
            "300/300 - 55s - loss: 0.3634 - accuracy: 0.8874 - val_loss: 0.0644 - val_accuracy: 0.9802 - 55s/epoch - 183ms/step\n",
            "Epoch 2/10\n",
            "300/300 - 48s - loss: 0.0998 - accuracy: 0.9702 - val_loss: 0.0416 - val_accuracy: 0.9870 - 48s/epoch - 158ms/step\n",
            "Epoch 3/10\n",
            "300/300 - 47s - loss: 0.0740 - accuracy: 0.9785 - val_loss: 0.0326 - val_accuracy: 0.9896 - 47s/epoch - 155ms/step\n",
            "Epoch 4/10\n",
            "300/300 - 46s - loss: 0.0578 - accuracy: 0.9831 - val_loss: 0.0315 - val_accuracy: 0.9891 - 46s/epoch - 153ms/step\n",
            "Epoch 5/10\n",
            "300/300 - 46s - loss: 0.0489 - accuracy: 0.9854 - val_loss: 0.0278 - val_accuracy: 0.9906 - 46s/epoch - 153ms/step\n",
            "Epoch 6/10\n",
            "300/300 - 47s - loss: 0.0445 - accuracy: 0.9866 - val_loss: 0.0257 - val_accuracy: 0.9913 - 47s/epoch - 155ms/step\n",
            "Epoch 7/10\n",
            "300/300 - 46s - loss: 0.0375 - accuracy: 0.9883 - val_loss: 0.0236 - val_accuracy: 0.9923 - 46s/epoch - 152ms/step\n",
            "Epoch 8/10\n",
            "300/300 - 49s - loss: 0.0338 - accuracy: 0.9899 - val_loss: 0.0239 - val_accuracy: 0.9921 - 49s/epoch - 164ms/step\n",
            "Epoch 9/10\n",
            "300/300 - 49s - loss: 0.0306 - accuracy: 0.9905 - val_loss: 0.0236 - val_accuracy: 0.9926 - 49s/epoch - 164ms/step\n",
            "Epoch 10/10\n",
            "300/300 - 48s - loss: 0.0297 - accuracy: 0.9902 - val_loss: 0.0240 - val_accuracy: 0.9929 - 48s/epoch - 159ms/step\n",
            "Test accuracy: 99.29%\n"
          ]
        }
      ],
      "source": [
        "import tensorflow as tf\n",
        "from tensorflow.keras.datasets import mnist\n",
        "from tensorflow.keras.models import Sequential\n",
        "from tensorflow.keras.layers import Conv2D, MaxPooling2D, Flatten, Dense, Dropout\n",
        "from tensorflow.keras.utils import to_categorical\n",
        "# Load and preprocess the dataset\n",
        "(x_train, y_train), (x_test, y_test) = mnist.load_data()\n",
        "x_train = x_train.reshape(x_train.shape[0], 28, 28, 1).astype('float32') / 255\n",
        "x_test = x_test.reshape(x_test.shape[0], 28, 28, 1).astype('float32') / 255\n",
        "y_train = to_categorical(y_train, 10)\n",
        "y_test = to_categorical(y_test, 10)\n",
        "# Build the CNN model\n",
        "model = Sequential()\n",
        "model.add(Conv2D(32, kernel_size=(3, 3), activation='relu',\n",
        "input_shape=(28, 28, 1)))\n",
        "model.add(MaxPooling2D(pool_size=(2, 2)))\n",
        "model.add(Conv2D(64, kernel_size=(3, 3), activation='relu'))\n",
        "model.add(MaxPooling2D(pool_size=(2, 2)))\n",
        "model.add(Flatten())\n",
        "model.add(Dense(128, activation='relu'))\n",
        "model.add(Dropout(0.5))\n",
        "model.add(Dense(10, activation='softmax'))\n",
        "# Compile the model\n",
        "model.compile(loss='categorical_crossentropy', optimizer='adam',\n",
        "metrics=['accuracy'])\n",
        "# Train the model\n",
        "model.fit(x_train, y_train, validation_data=(x_test, y_test), epochs=10,\n",
        "batch_size=200, verbose=2)\n",
        "# Evaluate the model\n",
        "test_loss, test_acc = model.evaluate(x_test, y_test, verbose=0)\n",
        "print(f'Test accuracy: {test_acc*100:.2f}%')\n"
      ]
    }
  ]
}